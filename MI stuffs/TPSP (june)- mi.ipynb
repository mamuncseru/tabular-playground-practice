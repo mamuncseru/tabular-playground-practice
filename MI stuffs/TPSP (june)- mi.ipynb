{
 "cells": [
  {
   "cell_type": "markdown",
   "metadata": {},
   "source": [
    "# this is just the downloaded notebook of kaggle no directories have beeen updated locally"
   ]
  },
  {
   "cell_type": "code",
   "execution_count": 1,
   "metadata": {
    "_cell_guid": "b1076dfc-b9ad-4769-8c92-a6c4dae69d19",
    "_uuid": "8f2839f25d086af736a60e9eeb907d3b93b6e0e5",
    "execution": {
     "iopub.execute_input": "2021-06-01T14:58:43.846319Z",
     "iopub.status.busy": "2021-06-01T14:58:43.845887Z",
     "iopub.status.idle": "2021-06-01T14:58:43.855579Z",
     "shell.execute_reply": "2021-06-01T14:58:43.854086Z",
     "shell.execute_reply.started": "2021-06-01T14:58:43.846279Z"
    }
   },
   "outputs": [],
   "source": [
    "# This Python 3 environment comes with many helpful analytics libraries installed\n",
    "# It is defined by the kaggle/python Docker image: https://github.com/kaggle/docker-python\n",
    "# For example, here's several helpful packages to load\n",
    "\n",
    "import numpy as np # linear algebra\n",
    "import pandas as pd # data processing, CSV file I/O (e.g. pd.read_csv)\n",
    "\n",
    "# Input data files are available in the read-only \"../input/\" directory\n",
    "# For example, running this (by clicking run or pressing Shift+Enter) will list all files under the input directory\n",
    "\n",
    "import os\n",
    "for dirname, _, filenames in os.walk('/kaggle/input'):\n",
    "    for filename in filenames:\n",
    "        print(os.path.join(dirname, filename))\n",
    "\n",
    "# You can write up to 20GB to the current directory (/kaggle/working/) that gets preserved as output when you create a version using \"Save & Run All\" \n",
    "# You can also write temporary files to /kaggle/temp/, but they won't be saved outside of the current session"
   ]
  },
  {
   "cell_type": "code",
   "execution_count": 2,
   "metadata": {
    "execution": {
     "iopub.execute_input": "2021-06-01T14:58:43.991006Z",
     "iopub.status.busy": "2021-06-01T14:58:43.990629Z",
     "iopub.status.idle": "2021-06-01T14:58:45.27634Z",
     "shell.execute_reply": "2021-06-01T14:58:45.275315Z",
     "shell.execute_reply.started": "2021-06-01T14:58:43.990974Z"
    }
   },
   "outputs": [
    {
     "ename": "FileNotFoundError",
     "evalue": "[Errno 2] File ../input/tabular-playground-series-jun-2021/train.csv does not exist: '../input/tabular-playground-series-jun-2021/train.csv'",
     "output_type": "error",
     "traceback": [
      "\u001b[1;31m---------------------------------------------------------------------------\u001b[0m",
      "\u001b[1;31mFileNotFoundError\u001b[0m                         Traceback (most recent call last)",
      "\u001b[1;32m<ipython-input-2-d5e8d4528693>\u001b[0m in \u001b[0;36m<module>\u001b[1;34m\u001b[0m\n\u001b[1;32m----> 1\u001b[1;33m \u001b[0mtrain\u001b[0m \u001b[1;33m=\u001b[0m \u001b[0mpd\u001b[0m\u001b[1;33m.\u001b[0m\u001b[0mread_csv\u001b[0m\u001b[1;33m(\u001b[0m\u001b[1;34m'../input/tabular-playground-series-jun-2021/train.csv'\u001b[0m\u001b[1;33m)\u001b[0m\u001b[1;33m\u001b[0m\u001b[1;33m\u001b[0m\u001b[0m\n\u001b[0m\u001b[0;32m      2\u001b[0m \u001b[0mtest\u001b[0m \u001b[1;33m=\u001b[0m \u001b[0mpd\u001b[0m\u001b[1;33m.\u001b[0m\u001b[0mread_csv\u001b[0m\u001b[1;33m(\u001b[0m\u001b[1;34m'../input/tabular-playground-series-jun-2021/test.csv'\u001b[0m\u001b[1;33m)\u001b[0m\u001b[1;33m\u001b[0m\u001b[1;33m\u001b[0m\u001b[0m\n",
      "\u001b[1;32m~\\anaconda3\\lib\\site-packages\\pandas\\io\\parsers.py\u001b[0m in \u001b[0;36mparser_f\u001b[1;34m(filepath_or_buffer, sep, delimiter, header, names, index_col, usecols, squeeze, prefix, mangle_dupe_cols, dtype, engine, converters, true_values, false_values, skipinitialspace, skiprows, skipfooter, nrows, na_values, keep_default_na, na_filter, verbose, skip_blank_lines, parse_dates, infer_datetime_format, keep_date_col, date_parser, dayfirst, cache_dates, iterator, chunksize, compression, thousands, decimal, lineterminator, quotechar, quoting, doublequote, escapechar, comment, encoding, dialect, error_bad_lines, warn_bad_lines, delim_whitespace, low_memory, memory_map, float_precision)\u001b[0m\n\u001b[0;32m    674\u001b[0m         )\n\u001b[0;32m    675\u001b[0m \u001b[1;33m\u001b[0m\u001b[0m\n\u001b[1;32m--> 676\u001b[1;33m         \u001b[1;32mreturn\u001b[0m \u001b[0m_read\u001b[0m\u001b[1;33m(\u001b[0m\u001b[0mfilepath_or_buffer\u001b[0m\u001b[1;33m,\u001b[0m \u001b[0mkwds\u001b[0m\u001b[1;33m)\u001b[0m\u001b[1;33m\u001b[0m\u001b[1;33m\u001b[0m\u001b[0m\n\u001b[0m\u001b[0;32m    677\u001b[0m \u001b[1;33m\u001b[0m\u001b[0m\n\u001b[0;32m    678\u001b[0m     \u001b[0mparser_f\u001b[0m\u001b[1;33m.\u001b[0m\u001b[0m__name__\u001b[0m \u001b[1;33m=\u001b[0m \u001b[0mname\u001b[0m\u001b[1;33m\u001b[0m\u001b[1;33m\u001b[0m\u001b[0m\n",
      "\u001b[1;32m~\\anaconda3\\lib\\site-packages\\pandas\\io\\parsers.py\u001b[0m in \u001b[0;36m_read\u001b[1;34m(filepath_or_buffer, kwds)\u001b[0m\n\u001b[0;32m    446\u001b[0m \u001b[1;33m\u001b[0m\u001b[0m\n\u001b[0;32m    447\u001b[0m     \u001b[1;31m# Create the parser.\u001b[0m\u001b[1;33m\u001b[0m\u001b[1;33m\u001b[0m\u001b[1;33m\u001b[0m\u001b[0m\n\u001b[1;32m--> 448\u001b[1;33m     \u001b[0mparser\u001b[0m \u001b[1;33m=\u001b[0m \u001b[0mTextFileReader\u001b[0m\u001b[1;33m(\u001b[0m\u001b[0mfp_or_buf\u001b[0m\u001b[1;33m,\u001b[0m \u001b[1;33m**\u001b[0m\u001b[0mkwds\u001b[0m\u001b[1;33m)\u001b[0m\u001b[1;33m\u001b[0m\u001b[1;33m\u001b[0m\u001b[0m\n\u001b[0m\u001b[0;32m    449\u001b[0m \u001b[1;33m\u001b[0m\u001b[0m\n\u001b[0;32m    450\u001b[0m     \u001b[1;32mif\u001b[0m \u001b[0mchunksize\u001b[0m \u001b[1;32mor\u001b[0m \u001b[0miterator\u001b[0m\u001b[1;33m:\u001b[0m\u001b[1;33m\u001b[0m\u001b[1;33m\u001b[0m\u001b[0m\n",
      "\u001b[1;32m~\\anaconda3\\lib\\site-packages\\pandas\\io\\parsers.py\u001b[0m in \u001b[0;36m__init__\u001b[1;34m(self, f, engine, **kwds)\u001b[0m\n\u001b[0;32m    878\u001b[0m             \u001b[0mself\u001b[0m\u001b[1;33m.\u001b[0m\u001b[0moptions\u001b[0m\u001b[1;33m[\u001b[0m\u001b[1;34m\"has_index_names\"\u001b[0m\u001b[1;33m]\u001b[0m \u001b[1;33m=\u001b[0m \u001b[0mkwds\u001b[0m\u001b[1;33m[\u001b[0m\u001b[1;34m\"has_index_names\"\u001b[0m\u001b[1;33m]\u001b[0m\u001b[1;33m\u001b[0m\u001b[1;33m\u001b[0m\u001b[0m\n\u001b[0;32m    879\u001b[0m \u001b[1;33m\u001b[0m\u001b[0m\n\u001b[1;32m--> 880\u001b[1;33m         \u001b[0mself\u001b[0m\u001b[1;33m.\u001b[0m\u001b[0m_make_engine\u001b[0m\u001b[1;33m(\u001b[0m\u001b[0mself\u001b[0m\u001b[1;33m.\u001b[0m\u001b[0mengine\u001b[0m\u001b[1;33m)\u001b[0m\u001b[1;33m\u001b[0m\u001b[1;33m\u001b[0m\u001b[0m\n\u001b[0m\u001b[0;32m    881\u001b[0m \u001b[1;33m\u001b[0m\u001b[0m\n\u001b[0;32m    882\u001b[0m     \u001b[1;32mdef\u001b[0m \u001b[0mclose\u001b[0m\u001b[1;33m(\u001b[0m\u001b[0mself\u001b[0m\u001b[1;33m)\u001b[0m\u001b[1;33m:\u001b[0m\u001b[1;33m\u001b[0m\u001b[1;33m\u001b[0m\u001b[0m\n",
      "\u001b[1;32m~\\anaconda3\\lib\\site-packages\\pandas\\io\\parsers.py\u001b[0m in \u001b[0;36m_make_engine\u001b[1;34m(self, engine)\u001b[0m\n\u001b[0;32m   1112\u001b[0m     \u001b[1;32mdef\u001b[0m \u001b[0m_make_engine\u001b[0m\u001b[1;33m(\u001b[0m\u001b[0mself\u001b[0m\u001b[1;33m,\u001b[0m \u001b[0mengine\u001b[0m\u001b[1;33m=\u001b[0m\u001b[1;34m\"c\"\u001b[0m\u001b[1;33m)\u001b[0m\u001b[1;33m:\u001b[0m\u001b[1;33m\u001b[0m\u001b[1;33m\u001b[0m\u001b[0m\n\u001b[0;32m   1113\u001b[0m         \u001b[1;32mif\u001b[0m \u001b[0mengine\u001b[0m \u001b[1;33m==\u001b[0m \u001b[1;34m\"c\"\u001b[0m\u001b[1;33m:\u001b[0m\u001b[1;33m\u001b[0m\u001b[1;33m\u001b[0m\u001b[0m\n\u001b[1;32m-> 1114\u001b[1;33m             \u001b[0mself\u001b[0m\u001b[1;33m.\u001b[0m\u001b[0m_engine\u001b[0m \u001b[1;33m=\u001b[0m \u001b[0mCParserWrapper\u001b[0m\u001b[1;33m(\u001b[0m\u001b[0mself\u001b[0m\u001b[1;33m.\u001b[0m\u001b[0mf\u001b[0m\u001b[1;33m,\u001b[0m \u001b[1;33m**\u001b[0m\u001b[0mself\u001b[0m\u001b[1;33m.\u001b[0m\u001b[0moptions\u001b[0m\u001b[1;33m)\u001b[0m\u001b[1;33m\u001b[0m\u001b[1;33m\u001b[0m\u001b[0m\n\u001b[0m\u001b[0;32m   1115\u001b[0m         \u001b[1;32melse\u001b[0m\u001b[1;33m:\u001b[0m\u001b[1;33m\u001b[0m\u001b[1;33m\u001b[0m\u001b[0m\n\u001b[0;32m   1116\u001b[0m             \u001b[1;32mif\u001b[0m \u001b[0mengine\u001b[0m \u001b[1;33m==\u001b[0m \u001b[1;34m\"python\"\u001b[0m\u001b[1;33m:\u001b[0m\u001b[1;33m\u001b[0m\u001b[1;33m\u001b[0m\u001b[0m\n",
      "\u001b[1;32m~\\anaconda3\\lib\\site-packages\\pandas\\io\\parsers.py\u001b[0m in \u001b[0;36m__init__\u001b[1;34m(self, src, **kwds)\u001b[0m\n\u001b[0;32m   1889\u001b[0m         \u001b[0mkwds\u001b[0m\u001b[1;33m[\u001b[0m\u001b[1;34m\"usecols\"\u001b[0m\u001b[1;33m]\u001b[0m \u001b[1;33m=\u001b[0m \u001b[0mself\u001b[0m\u001b[1;33m.\u001b[0m\u001b[0musecols\u001b[0m\u001b[1;33m\u001b[0m\u001b[1;33m\u001b[0m\u001b[0m\n\u001b[0;32m   1890\u001b[0m \u001b[1;33m\u001b[0m\u001b[0m\n\u001b[1;32m-> 1891\u001b[1;33m         \u001b[0mself\u001b[0m\u001b[1;33m.\u001b[0m\u001b[0m_reader\u001b[0m \u001b[1;33m=\u001b[0m \u001b[0mparsers\u001b[0m\u001b[1;33m.\u001b[0m\u001b[0mTextReader\u001b[0m\u001b[1;33m(\u001b[0m\u001b[0msrc\u001b[0m\u001b[1;33m,\u001b[0m \u001b[1;33m**\u001b[0m\u001b[0mkwds\u001b[0m\u001b[1;33m)\u001b[0m\u001b[1;33m\u001b[0m\u001b[1;33m\u001b[0m\u001b[0m\n\u001b[0m\u001b[0;32m   1892\u001b[0m         \u001b[0mself\u001b[0m\u001b[1;33m.\u001b[0m\u001b[0munnamed_cols\u001b[0m \u001b[1;33m=\u001b[0m \u001b[0mself\u001b[0m\u001b[1;33m.\u001b[0m\u001b[0m_reader\u001b[0m\u001b[1;33m.\u001b[0m\u001b[0munnamed_cols\u001b[0m\u001b[1;33m\u001b[0m\u001b[1;33m\u001b[0m\u001b[0m\n\u001b[0;32m   1893\u001b[0m \u001b[1;33m\u001b[0m\u001b[0m\n",
      "\u001b[1;32mpandas\\_libs\\parsers.pyx\u001b[0m in \u001b[0;36mpandas._libs.parsers.TextReader.__cinit__\u001b[1;34m()\u001b[0m\n",
      "\u001b[1;32mpandas\\_libs\\parsers.pyx\u001b[0m in \u001b[0;36mpandas._libs.parsers.TextReader._setup_parser_source\u001b[1;34m()\u001b[0m\n",
      "\u001b[1;31mFileNotFoundError\u001b[0m: [Errno 2] File ../input/tabular-playground-series-jun-2021/train.csv does not exist: '../input/tabular-playground-series-jun-2021/train.csv'"
     ]
    }
   ],
   "source": [
    "train = pd.read_csv('../input/tabular-playground-series-jun-2021/train.csv')\n",
    "test = pd.read_csv('../input/tabular-playground-series-jun-2021/test.csv')"
   ]
  },
  {
   "cell_type": "code",
   "execution_count": null,
   "metadata": {
    "execution": {
     "iopub.execute_input": "2021-06-01T14:58:45.280835Z",
     "iopub.status.busy": "2021-06-01T14:58:45.280514Z",
     "iopub.status.idle": "2021-06-01T14:58:45.301638Z",
     "shell.execute_reply": "2021-06-01T14:58:45.300606Z",
     "shell.execute_reply.started": "2021-06-01T14:58:45.280805Z"
    }
   },
   "outputs": [],
   "source": [
    "train.head()"
   ]
  },
  {
   "cell_type": "code",
   "execution_count": null,
   "metadata": {
    "execution": {
     "iopub.execute_input": "2021-06-01T14:58:45.304361Z",
     "iopub.status.busy": "2021-06-01T14:58:45.303874Z",
     "iopub.status.idle": "2021-06-01T14:58:45.335482Z",
     "shell.execute_reply": "2021-06-01T14:58:45.334442Z",
     "shell.execute_reply.started": "2021-06-01T14:58:45.304314Z"
    }
   },
   "outputs": [],
   "source": [
    "test.head()"
   ]
  },
  {
   "cell_type": "code",
   "execution_count": null,
   "metadata": {
    "execution": {
     "iopub.execute_input": "2021-06-01T14:58:45.337011Z",
     "iopub.status.busy": "2021-06-01T14:58:45.336722Z",
     "iopub.status.idle": "2021-06-01T14:58:45.398003Z",
     "shell.execute_reply": "2021-06-01T14:58:45.396817Z",
     "shell.execute_reply.started": "2021-06-01T14:58:45.336983Z"
    }
   },
   "outputs": [],
   "source": [
    "train.info()"
   ]
  },
  {
   "cell_type": "code",
   "execution_count": null,
   "metadata": {
    "execution": {
     "iopub.execute_input": "2021-06-01T14:58:45.399959Z",
     "iopub.status.busy": "2021-06-01T14:58:45.399675Z",
     "iopub.status.idle": "2021-06-01T14:58:45.406766Z",
     "shell.execute_reply": "2021-06-01T14:58:45.40585Z",
     "shell.execute_reply.started": "2021-06-01T14:58:45.399931Z"
    }
   },
   "outputs": [],
   "source": [
    "train.shape"
   ]
  },
  {
   "cell_type": "code",
   "execution_count": null,
   "metadata": {
    "execution": {
     "iopub.execute_input": "2021-06-01T14:58:47.789969Z",
     "iopub.status.busy": "2021-06-01T14:58:47.789582Z",
     "iopub.status.idle": "2021-06-01T14:58:47.824826Z",
     "shell.execute_reply": "2021-06-01T14:58:47.823311Z",
     "shell.execute_reply.started": "2021-06-01T14:58:47.789935Z"
    }
   },
   "outputs": [],
   "source": [
    "test.info()"
   ]
  },
  {
   "cell_type": "code",
   "execution_count": null,
   "metadata": {
    "execution": {
     "iopub.execute_input": "2021-06-01T14:58:48.987537Z",
     "iopub.status.busy": "2021-06-01T14:58:48.987103Z",
     "iopub.status.idle": "2021-06-01T14:58:48.995619Z",
     "shell.execute_reply": "2021-06-01T14:58:48.994036Z",
     "shell.execute_reply.started": "2021-06-01T14:58:48.987499Z"
    }
   },
   "outputs": [],
   "source": [
    "test.shape"
   ]
  },
  {
   "cell_type": "code",
   "execution_count": null,
   "metadata": {
    "execution": {
     "iopub.execute_input": "2021-06-01T14:58:52.037377Z",
     "iopub.status.busy": "2021-06-01T14:58:52.037013Z",
     "iopub.status.idle": "2021-06-01T14:58:52.084489Z",
     "shell.execute_reply": "2021-06-01T14:58:52.083274Z",
     "shell.execute_reply.started": "2021-06-01T14:58:52.037344Z"
    }
   },
   "outputs": [],
   "source": [
    "train.isnull().sum()"
   ]
  },
  {
   "cell_type": "code",
   "execution_count": null,
   "metadata": {
    "execution": {
     "iopub.execute_input": "2021-06-01T14:58:52.25623Z",
     "iopub.status.busy": "2021-06-01T14:58:52.255874Z",
     "iopub.status.idle": "2021-06-01T14:58:52.276387Z",
     "shell.execute_reply": "2021-06-01T14:58:52.275534Z",
     "shell.execute_reply.started": "2021-06-01T14:58:52.256184Z"
    }
   },
   "outputs": [],
   "source": [
    "test.isnull().sum()"
   ]
  },
  {
   "cell_type": "code",
   "execution_count": null,
   "metadata": {
    "execution": {
     "iopub.execute_input": "2021-06-01T15:03:55.941976Z",
     "iopub.status.busy": "2021-06-01T15:03:55.941617Z",
     "iopub.status.idle": "2021-06-01T15:03:56.036154Z",
     "shell.execute_reply": "2021-06-01T15:03:56.034729Z",
     "shell.execute_reply.started": "2021-06-01T15:03:55.941945Z"
    }
   },
   "outputs": [],
   "source": [
    "target_class_dummies = pd.get_dummies(train.target)\n",
    "train = pd.concat([train, target_class_dummies], axis=1)\n"
   ]
  },
  {
   "cell_type": "code",
   "execution_count": null,
   "metadata": {
    "execution": {
     "iopub.execute_input": "2021-06-01T15:04:49.044944Z",
     "iopub.status.busy": "2021-06-01T15:04:49.044558Z",
     "iopub.status.idle": "2021-06-01T15:04:49.090654Z",
     "shell.execute_reply": "2021-06-01T15:04:49.08938Z",
     "shell.execute_reply.started": "2021-06-01T15:04:49.044905Z"
    }
   },
   "outputs": [],
   "source": [
    "features_drop = [\"target\",\"Class_1\",\"Class_2\",\"Class_3\",\"Class_4\",\"Class_5\",\"Class_6\",\"Class_7\",\"Class_8\",\"Class_9\"]\n",
    "x_train = train.drop(features_drop, axis=1)\n"
   ]
  },
  {
   "cell_type": "code",
   "execution_count": null,
   "metadata": {
    "execution": {
     "iopub.execute_input": "2021-06-01T15:05:00.655916Z",
     "iopub.status.busy": "2021-06-01T15:05:00.655502Z",
     "iopub.status.idle": "2021-06-01T15:05:00.679098Z",
     "shell.execute_reply": "2021-06-01T15:05:00.677743Z",
     "shell.execute_reply.started": "2021-06-01T15:05:00.65588Z"
    }
   },
   "outputs": [],
   "source": [
    "x_train.head() "
   ]
  },
  {
   "cell_type": "code",
   "execution_count": null,
   "metadata": {
    "execution": {
     "iopub.execute_input": "2021-06-01T15:06:09.460253Z",
     "iopub.status.busy": "2021-06-01T15:06:09.459839Z",
     "iopub.status.idle": "2021-06-01T15:06:09.482506Z",
     "shell.execute_reply": "2021-06-01T15:06:09.481556Z",
     "shell.execute_reply.started": "2021-06-01T15:06:09.460217Z"
    }
   },
   "outputs": [],
   "source": [
    "train.head()"
   ]
  },
  {
   "cell_type": "code",
   "execution_count": null,
   "metadata": {
    "execution": {
     "iopub.execute_input": "2021-06-01T15:07:33.684864Z",
     "iopub.status.busy": "2021-06-01T15:07:33.684467Z",
     "iopub.status.idle": "2021-06-01T15:07:33.69395Z",
     "shell.execute_reply": "2021-06-01T15:07:33.692217Z",
     "shell.execute_reply.started": "2021-06-01T15:07:33.684828Z"
    }
   },
   "outputs": [],
   "source": [
    "y_train = train[[\"Class_1\",\"Class_2\",\"Class_3\",\"Class_4\",\"Class_5\",\"Class_6\",\"Class_7\",\"Class_8\",\"Class_9\"]]"
   ]
  },
  {
   "cell_type": "code",
   "execution_count": null,
   "metadata": {
    "execution": {
     "iopub.execute_input": "2021-06-01T15:07:36.761532Z",
     "iopub.status.busy": "2021-06-01T15:07:36.760873Z",
     "iopub.status.idle": "2021-06-01T15:07:36.776693Z",
     "shell.execute_reply": "2021-06-01T15:07:36.775078Z",
     "shell.execute_reply.started": "2021-06-01T15:07:36.761477Z"
    }
   },
   "outputs": [],
   "source": [
    "y_train.head()"
   ]
  },
  {
   "cell_type": "code",
   "execution_count": null,
   "metadata": {
    "execution": {
     "iopub.execute_input": "2021-06-01T15:07:55.313671Z",
     "iopub.status.busy": "2021-06-01T15:07:55.313278Z",
     "iopub.status.idle": "2021-06-01T15:07:55.318242Z",
     "shell.execute_reply": "2021-06-01T15:07:55.317136Z",
     "shell.execute_reply.started": "2021-06-01T15:07:55.313638Z"
    }
   },
   "outputs": [],
   "source": [
    "from sklearn import tree\n"
   ]
  },
  {
   "cell_type": "code",
   "execution_count": null,
   "metadata": {
    "execution": {
     "iopub.execute_input": "2021-06-01T15:08:00.965726Z",
     "iopub.status.busy": "2021-06-01T15:08:00.965039Z",
     "iopub.status.idle": "2021-06-01T15:08:16.737533Z",
     "shell.execute_reply": "2021-06-01T15:08:16.736486Z",
     "shell.execute_reply.started": "2021-06-01T15:08:00.965671Z"
    }
   },
   "outputs": [],
   "source": [
    "clf = tree.DecisionTreeClassifier()\n",
    "clf = clf.fit(x_train, y_train)"
   ]
  },
  {
   "cell_type": "code",
   "execution_count": null,
   "metadata": {
    "execution": {
     "iopub.execute_input": "2021-06-01T15:08:32.543602Z",
     "iopub.status.busy": "2021-06-01T15:08:32.543176Z",
     "iopub.status.idle": "2021-06-01T15:08:32.679391Z",
     "shell.execute_reply": "2021-06-01T15:08:32.678068Z",
     "shell.execute_reply.started": "2021-06-01T15:08:32.543565Z"
    }
   },
   "outputs": [],
   "source": [
    "y_pred = clf.predict(test)"
   ]
  },
  {
   "cell_type": "code",
   "execution_count": null,
   "metadata": {
    "execution": {
     "iopub.execute_input": "2021-06-01T15:55:50.14915Z",
     "iopub.status.busy": "2021-06-01T15:55:50.148482Z",
     "iopub.status.idle": "2021-06-01T15:55:50.156389Z",
     "shell.execute_reply": "2021-06-01T15:55:50.155476Z",
     "shell.execute_reply.started": "2021-06-01T15:55:50.149097Z"
    }
   },
   "outputs": [],
   "source": [
    "y_pred"
   ]
  },
  {
   "cell_type": "code",
   "execution_count": null,
   "metadata": {
    "execution": {
     "iopub.execute_input": "2021-06-01T15:23:21.803757Z",
     "iopub.status.busy": "2021-06-01T15:23:21.803283Z",
     "iopub.status.idle": "2021-06-01T15:23:21.809801Z",
     "shell.execute_reply": "2021-06-01T15:23:21.808473Z",
     "shell.execute_reply.started": "2021-06-01T15:23:21.803725Z"
    }
   },
   "outputs": [],
   "source": [
    "y_pred.shape"
   ]
  },
  {
   "cell_type": "code",
   "execution_count": null,
   "metadata": {
    "execution": {
     "iopub.execute_input": "2021-06-01T15:09:12.122513Z",
     "iopub.status.busy": "2021-06-01T15:09:12.122135Z",
     "iopub.status.idle": "2021-06-01T15:09:12.231395Z",
     "shell.execute_reply": "2021-06-01T15:09:12.230263Z",
     "shell.execute_reply.started": "2021-06-01T15:09:12.122481Z"
    }
   },
   "outputs": [],
   "source": [
    "#check sample submission file\n",
    "s_submission = pd.read_csv(\"../input/tabular-playground-series-jun-2021/sample_submission.csv\")"
   ]
  },
  {
   "cell_type": "code",
   "execution_count": null,
   "metadata": {
    "execution": {
     "iopub.execute_input": "2021-06-01T15:18:23.188309Z",
     "iopub.status.busy": "2021-06-01T15:18:23.187952Z",
     "iopub.status.idle": "2021-06-01T15:18:23.208547Z",
     "shell.execute_reply": "2021-06-01T15:18:23.207307Z",
     "shell.execute_reply.started": "2021-06-01T15:18:23.188278Z"
    }
   },
   "outputs": [],
   "source": [
    "s_submission.head()"
   ]
  },
  {
   "cell_type": "code",
   "execution_count": null,
   "metadata": {
    "execution": {
     "iopub.execute_input": "2021-06-01T15:56:39.457261Z",
     "iopub.status.busy": "2021-06-01T15:56:39.456871Z",
     "iopub.status.idle": "2021-06-01T15:56:39.789461Z",
     "shell.execute_reply": "2021-06-01T15:56:39.788143Z",
     "shell.execute_reply.started": "2021-06-01T15:56:39.457227Z"
    }
   },
   "outputs": [],
   "source": [
    "submission = pd.DataFrame({\n",
    "        \"id\": test[\"id\"],\n",
    "        \"Class_1\": y_pred[:,0],\n",
    "        \"Class_2\": y_pred[:,1],\n",
    "        \"Class_3\": y_pred[:,2],\n",
    "        \"Class_4\": y_pred[:,3],\n",
    "        \"Class_5\": y_pred[:,4],\n",
    "        \"Class_6\": y_pred[:,5],\n",
    "        \"Class_7\": y_pred[:,6],\n",
    "        \"Class_8\": y_pred[:,7],\n",
    "        \"Class_9\": y_pred[:,8]\n",
    "    })\n",
    "\n",
    "submission.to_csv('submission.csv', index=False)"
   ]
  },
  {
   "cell_type": "markdown",
   "metadata": {},
   "source": [
    "# accuracy was 27.0.... "
   ]
  },
  {
   "cell_type": "code",
   "execution_count": null,
   "metadata": {},
   "outputs": [],
   "source": []
  }
 ],
 "metadata": {
  "kernelspec": {
   "display_name": "Python 3",
   "language": "python",
   "name": "python3"
  },
  "language_info": {
   "codemirror_mode": {
    "name": "ipython",
    "version": 3
   },
   "file_extension": ".py",
   "mimetype": "text/x-python",
   "name": "python",
   "nbconvert_exporter": "python",
   "pygments_lexer": "ipython3",
   "version": "3.7.6"
  }
 },
 "nbformat": 4,
 "nbformat_minor": 4
}
